{
 "cells": [
  {
   "cell_type": "raw",
   "id": "97653b68-a729-4960-8ad2-c0138c422a71",
   "metadata": {},
   "source": [
    "Name : Ishika Chittora\n",
    "Aim : Develop a hand gesture recognition model that can accurately identify and classify different hand gestures from image or video data, enabling intuitive human-computer interaction and gesture-based control systems"
   ]
  },
  {
   "cell_type": "raw",
   "id": "3ecdf856-0913-42de-ad09-190c6fc61da4",
   "metadata": {},
   "source": [
    "Importing libraries"
   ]
  },
  {
   "cell_type": "code",
   "execution_count": 1,
   "id": "e69473aa-f8c1-4149-a53d-9573c85cb327",
   "metadata": {},
   "outputs": [],
   "source": [
    "%matplotlib inline\n",
    "import os\n",
    "\n",
    "import pickle\n",
    "import random\n",
    "# Helper libraries\n",
    "import numpy as np\n",
    "import matplotlib.pyplot as plt\n",
    "import cv2\n",
    "import pandas as pd\n",
    "\n",
    "# Sklearn\n",
    "from sklearn.model_selection import train_test_split\n",
    "from sklearn.metrics import confusion_matrix "
   ]
  },
  {
   "cell_type": "raw",
   "id": "8875840a-edd7-4fc7-8112-a7a81dc1f07b",
   "metadata": {},
   "source": [
    "Loading data"
   ]
  },
  {
   "cell_type": "code",
   "execution_count": 2,
   "id": "e08db194-c1ea-4db8-b8fb-30e08028999d",
   "metadata": {},
   "outputs": [],
   "source": [
    "image_data = 'C:\\\\Users\\\\ISHIKA JAIN\\\\Downloads\\\\dataset\\\\HandGesture\\\\images'"
   ]
  },
  {
   "cell_type": "code",
   "execution_count": 3,
   "id": "70244a8e-6cb2-4e80-a974-779403e188e5",
   "metadata": {},
   "outputs": [],
   "source": [
    "categories = ['call_me','fingers_crossed','up','okay','paper','rock','rock_on','scissor','peace','thumbs']\n",
    "data = []\n",
    "\n",
    "for category in categories:\n",
    "    path=os.path.join(image_data,category)\n",
    "    label=categories.index(category)\n",
    "    for img in os.listdir(path):\n",
    "            imgpath=os.path.join(path,img)\n",
    "            sign_img=cv2.imread(imgpath,0)\n",
    "            try:\n",
    "                sign_img=cv2.resize(sign_img,(50,50))\n",
    "                image=np.array(sign_img).flatten()\n",
    "                data.append([image,label])\n",
    "            except Exception as e:\n",
    "                pass"
   ]
  },
  {
   "cell_type": "code",
   "execution_count": 4,
   "id": "f16417d5-8d1b-46bd-a17c-a87233bb561f",
   "metadata": {},
   "outputs": [
    {
     "name": "stdout",
     "output_type": "stream",
     "text": [
      "5243\n"
     ]
    }
   ],
   "source": [
    "print(len(data))"
   ]
  },
  {
   "cell_type": "code",
   "execution_count": 5,
   "id": "a46388c8-2c05-43fc-8250-e5a9400ff7cb",
   "metadata": {},
   "outputs": [],
   "source": [
    "pick_in=open('data1.pickle','wb')\n",
    "pickle.dump(data,pick_in)\n",
    "pick_in.close()"
   ]
  },
  {
   "cell_type": "code",
   "execution_count": 6,
   "id": "eb0b7dec-3c04-45b2-9568-ee2dbb70f63b",
   "metadata": {},
   "outputs": [],
   "source": [
    "pick_in=open('data1.pickle','rb')\n",
    "data=pickle.load(pick_in)\n",
    "pick_in.close()"
   ]
  },
  {
   "cell_type": "code",
   "execution_count": 7,
   "id": "1f90a62a-af59-495a-96e7-17011ef51924",
   "metadata": {},
   "outputs": [],
   "source": [
    "random.shuffle(data)\n",
    "features=[]\n",
    "labels=[]\n",
    "\n",
    "for feature, label in data:\n",
    "    features.append(feature)\n",
    "    labels.append(label)"
   ]
  },
  {
   "cell_type": "code",
   "execution_count": 8,
   "id": "ead37cb7-6612-496f-b7ca-f830324843fb",
   "metadata": {},
   "outputs": [],
   "source": [
    "xtrain, xtest, ytrain,ytest= train_test_split(features, labels, test_size = 0.3)"
   ]
  },
  {
   "cell_type": "code",
   "execution_count": 9,
   "id": "70fb3b1f-f5b0-430e-9e8f-95e0b3314fdd",
   "metadata": {},
   "outputs": [
    {
     "name": "stdout",
     "output_type": "stream",
     "text": [
      "Accuracy is:  0.8766687857596949\n",
      "Prediction is:  okay\n"
     ]
    },
    {
     "data": {
      "image/png": "[encoded data removed]",
      "text/plain": [
       "<Figure size 640x480 with 1 Axes>"
      ]
     },
     "metadata": {},
     "output_type": "display_data"
    }
   ],
   "source": [
    "from sklearn.svm import SVC\n",
    "model = SVC(C=1,kernel='poly',gamma= 'auto')\n",
    "model.fit(xtrain, ytrain)\n",
    "prediction=model.predict(xtest)\n",
    "\n",
    "accuracy=model.score(xtest,ytest)\n",
    "\n",
    "categories=['call_me','fingers_crossed','up','okay','paper','rock','rock_on','scissor','peace','thumbs']\n",
    "\n",
    "print('Accuracy is: ', accuracy)\n",
    "print('Prediction is: ', categories[prediction[0]])\n",
    "\n",
    "mysign=xtest[0].reshape(50,50)\n",
    "plt.imshow(mysign, cmap='gray')\n",
    "plt.show()"
   ]
  },
  {
   "cell_type": "code",
   "execution_count": null,
   "id": "02717b39-0439-475e-87bb-715ba7cd79f0",
   "metadata": {},
   "outputs": [],
   "source": []
  }
 ],
 "metadata": {
  "kernelspec": {
   "display_name": "Python 3 (ipykernel)",
   "language": "python",
   "name": "python3"
  },
  "language_info": {
   "codemirror_mode": {
    "name": "ipython",
    "version": 3
   },
   "file_extension": ".py",
   "mimetype": "text/x-python",
   "name": "python",
   "nbconvert_exporter": "python",
   "pygments_lexer": "ipython3",
   "version": "3.11.7"
  }
 },
 "nbformat": 4,
 "nbformat_minor": 5
}
